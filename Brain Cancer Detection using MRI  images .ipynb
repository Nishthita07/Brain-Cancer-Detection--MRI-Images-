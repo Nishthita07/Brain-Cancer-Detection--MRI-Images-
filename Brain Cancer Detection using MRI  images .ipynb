{
  "metadata": {
    "kernelspec": {
      "language": "python",
      "display_name": "Python 3",
      "name": "python3"
    },
    "language_info": {
      "name": "python",
      "version": "3.10.14",
      "mimetype": "text/x-python",
      "codemirror_mode": {
        "name": "ipython",
        "version": 3
      },
      "pygments_lexer": "ipython3",
      "nbconvert_exporter": "python",
      "file_extension": ".py"
    },
    "kaggle": {
      "accelerator": "gpu",
      "dataSources": [
        {
          "sourceId": 9664263,
          "sourceType": "datasetVersion",
          "datasetId": 5509309
        },
        {
          "sourceId": 10000560,
          "sourceType": "datasetVersion",
          "datasetId": 6155548
        }
      ],
      "dockerImageVersionId": 30786,
      "isInternetEnabled": true,
      "language": "python",
      "sourceType": "notebook",
      "isGpuEnabled": true
    },
    "colab": {
      "provenance": []
    },
    "widgets": {
      "application/vnd.jupyter.widget-state+json": {
        "3d73090217e143dc86337b2b987639ea": {
          "model_module": "@jupyter-widgets/controls",
          "model_name": "VBoxModel",
          "model_module_version": "1.5.0",
          "state": {
            "_dom_classes": [],
            "_model_module": "@jupyter-widgets/controls",
            "_model_module_version": "1.5.0",
            "_model_name": "VBoxModel",
            "_view_count": null,
            "_view_module": "@jupyter-widgets/controls",
            "_view_module_version": "1.5.0",
            "_view_name": "VBoxView",
            "box_style": "",
            "children": [
              "IPY_MODEL_83cb3378ff5b44af900a177c00ed50b0",
              "IPY_MODEL_23f43167bfe9403885b2d76a2bd6aeab",
              "IPY_MODEL_79fc090d567f45f2bc1be72d508820db",
              "IPY_MODEL_dabf1744d011482a9dd6505c6354e2eb",
              "IPY_MODEL_a5b38ec65c7f426a81b140cf9b7ab849"
            ],
            "layout": "IPY_MODEL_480a7a9f828545c8ac0d7b9afeefd8e4"
          }
        },
        "83cb3378ff5b44af900a177c00ed50b0": {
          "model_module": "@jupyter-widgets/controls",
          "model_name": "HTMLModel",
          "model_module_version": "1.5.0",
          "state": {
            "_dom_classes": [],
            "_model_module": "@jupyter-widgets/controls",
            "_model_module_version": "1.5.0",
            "_model_name": "HTMLModel",
            "_view_count": null,
            "_view_module": "@jupyter-widgets/controls",
            "_view_module_version": "1.5.0",
            "_view_name": "HTMLView",
            "description": "",
            "description_tooltip": null,
            "layout": "IPY_MODEL_9d844653d949479b9895d38afa2c9069",
            "placeholder": "​",
            "style": "IPY_MODEL_3cd52ba6520341fdaca494574a4dcf3f",
            "value": "<center> <img\nsrc=https://www.kaggle.com/static/images/site-logo.png\nalt='Kaggle'> <br> Create an API token from <a\nhref=\"https://www.kaggle.com/settings/account\" target=\"_blank\">your Kaggle\nsettings page</a> and paste it below along with your Kaggle username. <br> </center>"
          }
        },
        "23f43167bfe9403885b2d76a2bd6aeab": {
          "model_module": "@jupyter-widgets/controls",
          "model_name": "TextModel",
          "model_module_version": "1.5.0",
          "state": {
            "_dom_classes": [],
            "_model_module": "@jupyter-widgets/controls",
            "_model_module_version": "1.5.0",
            "_model_name": "TextModel",
            "_view_count": null,
            "_view_module": "@jupyter-widgets/controls",
            "_view_module_version": "1.5.0",
            "_view_name": "TextView",
            "continuous_update": true,
            "description": "Username:",
            "description_tooltip": null,
            "disabled": false,
            "layout": "IPY_MODEL_fc100149be8347efba36c3f575f74cde",
            "placeholder": "​",
            "style": "IPY_MODEL_71a779e4b0a44ccf82841dd498ec0b6f",
            "value": ""
          }
        },
        "79fc090d567f45f2bc1be72d508820db": {
          "model_module": "@jupyter-widgets/controls",
          "model_name": "PasswordModel",
          "model_module_version": "1.5.0",
          "state": {
            "_dom_classes": [],
            "_model_module": "@jupyter-widgets/controls",
            "_model_module_version": "1.5.0",
            "_model_name": "PasswordModel",
            "_view_count": null,
            "_view_module": "@jupyter-widgets/controls",
            "_view_module_version": "1.5.0",
            "_view_name": "PasswordView",
            "continuous_update": true,
            "description": "Token:",
            "description_tooltip": null,
            "disabled": false,
            "layout": "IPY_MODEL_28f356a7a0b344f3aa353a01e471c318",
            "placeholder": "​",
            "style": "IPY_MODEL_0261bbb44f9f4ccbaecfc05629f74d8f",
            "value": ""
          }
        },
        "dabf1744d011482a9dd6505c6354e2eb": {
          "model_module": "@jupyter-widgets/controls",
          "model_name": "ButtonModel",
          "model_module_version": "1.5.0",
          "state": {
            "_dom_classes": [],
            "_model_module": "@jupyter-widgets/controls",
            "_model_module_version": "1.5.0",
            "_model_name": "ButtonModel",
            "_view_count": null,
            "_view_module": "@jupyter-widgets/controls",
            "_view_module_version": "1.5.0",
            "_view_name": "ButtonView",
            "button_style": "",
            "description": "Login",
            "disabled": false,
            "icon": "",
            "layout": "IPY_MODEL_70b8c89559f041f59e8320ebe5dee51f",
            "style": "IPY_MODEL_150028a79c0341bf99bcc331a20c41a2",
            "tooltip": ""
          }
        },
        "a5b38ec65c7f426a81b140cf9b7ab849": {
          "model_module": "@jupyter-widgets/controls",
          "model_name": "HTMLModel",
          "model_module_version": "1.5.0",
          "state": {
            "_dom_classes": [],
            "_model_module": "@jupyter-widgets/controls",
            "_model_module_version": "1.5.0",
            "_model_name": "HTMLModel",
            "_view_count": null,
            "_view_module": "@jupyter-widgets/controls",
            "_view_module_version": "1.5.0",
            "_view_name": "HTMLView",
            "description": "",
            "description_tooltip": null,
            "layout": "IPY_MODEL_ad940f24de37448f8b73515c2cba145f",
            "placeholder": "​",
            "style": "IPY_MODEL_ca7e039ac5bc44b7a3b2c998ca22cf61",
            "value": "\n<b>Thank You</b></center>"
          }
        },
        "480a7a9f828545c8ac0d7b9afeefd8e4": {
          "model_module": "@jupyter-widgets/base",
          "model_name": "LayoutModel",
          "model_module_version": "1.2.0",
          "state": {
            "_model_module": "@jupyter-widgets/base",
            "_model_module_version": "1.2.0",
            "_model_name": "LayoutModel",
            "_view_count": null,
            "_view_module": "@jupyter-widgets/base",
            "_view_module_version": "1.2.0",
            "_view_name": "LayoutView",
            "align_content": null,
            "align_items": "center",
            "align_self": null,
            "border": null,
            "bottom": null,
            "display": "flex",
            "flex": null,
            "flex_flow": "column",
            "grid_area": null,
            "grid_auto_columns": null,
            "grid_auto_flow": null,
            "grid_auto_rows": null,
            "grid_column": null,
            "grid_gap": null,
            "grid_row": null,
            "grid_template_areas": null,
            "grid_template_columns": null,
            "grid_template_rows": null,
            "height": null,
            "justify_content": null,
            "justify_items": null,
            "left": null,
            "margin": null,
            "max_height": null,
            "max_width": null,
            "min_height": null,
            "min_width": null,
            "object_fit": null,
            "object_position": null,
            "order": null,
            "overflow": null,
            "overflow_x": null,
            "overflow_y": null,
            "padding": null,
            "right": null,
            "top": null,
            "visibility": null,
            "width": "50%"
          }
        },
        "9d844653d949479b9895d38afa2c9069": {
          "model_module": "@jupyter-widgets/base",
          "model_name": "LayoutModel",
          "model_module_version": "1.2.0",
          "state": {
            "_model_module": "@jupyter-widgets/base",
            "_model_module_version": "1.2.0",
            "_model_name": "LayoutModel",
            "_view_count": null,
            "_view_module": "@jupyter-widgets/base",
            "_view_module_version": "1.2.0",
            "_view_name": "LayoutView",
            "align_content": null,
            "align_items": null,
            "align_self": null,
            "border": null,
            "bottom": null,
            "display": null,
            "flex": null,
            "flex_flow": null,
            "grid_area": null,
            "grid_auto_columns": null,
            "grid_auto_flow": null,
            "grid_auto_rows": null,
            "grid_column": null,
            "grid_gap": null,
            "grid_row": null,
            "grid_template_areas": null,
            "grid_template_columns": null,
            "grid_template_rows": null,
            "height": null,
            "justify_content": null,
            "justify_items": null,
            "left": null,
            "margin": null,
            "max_height": null,
            "max_width": null,
            "min_height": null,
            "min_width": null,
            "object_fit": null,
            "object_position": null,
            "order": null,
            "overflow": null,
            "overflow_x": null,
            "overflow_y": null,
            "padding": null,
            "right": null,
            "top": null,
            "visibility": null,
            "width": null
          }
        },
        "3cd52ba6520341fdaca494574a4dcf3f": {
          "model_module": "@jupyter-widgets/controls",
          "model_name": "DescriptionStyleModel",
          "model_module_version": "1.5.0",
          "state": {
            "_model_module": "@jupyter-widgets/controls",
            "_model_module_version": "1.5.0",
            "_model_name": "DescriptionStyleModel",
            "_view_count": null,
            "_view_module": "@jupyter-widgets/base",
            "_view_module_version": "1.2.0",
            "_view_name": "StyleView",
            "description_width": ""
          }
        },
        "fc100149be8347efba36c3f575f74cde": {
          "model_module": "@jupyter-widgets/base",
          "model_name": "LayoutModel",
          "model_module_version": "1.2.0",
          "state": {
            "_model_module": "@jupyter-widgets/base",
            "_model_module_version": "1.2.0",
            "_model_name": "LayoutModel",
            "_view_count": null,
            "_view_module": "@jupyter-widgets/base",
            "_view_module_version": "1.2.0",
            "_view_name": "LayoutView",
            "align_content": null,
            "align_items": null,
            "align_self": null,
            "border": null,
            "bottom": null,
            "display": null,
            "flex": null,
            "flex_flow": null,
            "grid_area": null,
            "grid_auto_columns": null,
            "grid_auto_flow": null,
            "grid_auto_rows": null,
            "grid_column": null,
            "grid_gap": null,
            "grid_row": null,
            "grid_template_areas": null,
            "grid_template_columns": null,
            "grid_template_rows": null,
            "height": null,
            "justify_content": null,
            "justify_items": null,
            "left": null,
            "margin": null,
            "max_height": null,
            "max_width": null,
            "min_height": null,
            "min_width": null,
            "object_fit": null,
            "object_position": null,
            "order": null,
            "overflow": null,
            "overflow_x": null,
            "overflow_y": null,
            "padding": null,
            "right": null,
            "top": null,
            "visibility": null,
            "width": null
          }
        },
        "71a779e4b0a44ccf82841dd498ec0b6f": {
          "model_module": "@jupyter-widgets/controls",
          "model_name": "DescriptionStyleModel",
          "model_module_version": "1.5.0",
          "state": {
            "_model_module": "@jupyter-widgets/controls",
            "_model_module_version": "1.5.0",
            "_model_name": "DescriptionStyleModel",
            "_view_count": null,
            "_view_module": "@jupyter-widgets/base",
            "_view_module_version": "1.2.0",
            "_view_name": "StyleView",
            "description_width": ""
          }
        },
        "28f356a7a0b344f3aa353a01e471c318": {
          "model_module": "@jupyter-widgets/base",
          "model_name": "LayoutModel",
          "model_module_version": "1.2.0",
          "state": {
            "_model_module": "@jupyter-widgets/base",
            "_model_module_version": "1.2.0",
            "_model_name": "LayoutModel",
            "_view_count": null,
            "_view_module": "@jupyter-widgets/base",
            "_view_module_version": "1.2.0",
            "_view_name": "LayoutView",
            "align_content": null,
            "align_items": null,
            "align_self": null,
            "border": null,
            "bottom": null,
            "display": null,
            "flex": null,
            "flex_flow": null,
            "grid_area": null,
            "grid_auto_columns": null,
            "grid_auto_flow": null,
            "grid_auto_rows": null,
            "grid_column": null,
            "grid_gap": null,
            "grid_row": null,
            "grid_template_areas": null,
            "grid_template_columns": null,
            "grid_template_rows": null,
            "height": null,
            "justify_content": null,
            "justify_items": null,
            "left": null,
            "margin": null,
            "max_height": null,
            "max_width": null,
            "min_height": null,
            "min_width": null,
            "object_fit": null,
            "object_position": null,
            "order": null,
            "overflow": null,
            "overflow_x": null,
            "overflow_y": null,
            "padding": null,
            "right": null,
            "top": null,
            "visibility": null,
            "width": null
          }
        },
        "0261bbb44f9f4ccbaecfc05629f74d8f": {
          "model_module": "@jupyter-widgets/controls",
          "model_name": "DescriptionStyleModel",
          "model_module_version": "1.5.0",
          "state": {
            "_model_module": "@jupyter-widgets/controls",
            "_model_module_version": "1.5.0",
            "_model_name": "DescriptionStyleModel",
            "_view_count": null,
            "_view_module": "@jupyter-widgets/base",
            "_view_module_version": "1.2.0",
            "_view_name": "StyleView",
            "description_width": ""
          }
        },
        "70b8c89559f041f59e8320ebe5dee51f": {
          "model_module": "@jupyter-widgets/base",
          "model_name": "LayoutModel",
          "model_module_version": "1.2.0",
          "state": {
            "_model_module": "@jupyter-widgets/base",
            "_model_module_version": "1.2.0",
            "_model_name": "LayoutModel",
            "_view_count": null,
            "_view_module": "@jupyter-widgets/base",
            "_view_module_version": "1.2.0",
            "_view_name": "LayoutView",
            "align_content": null,
            "align_items": null,
            "align_self": null,
            "border": null,
            "bottom": null,
            "display": null,
            "flex": null,
            "flex_flow": null,
            "grid_area": null,
            "grid_auto_columns": null,
            "grid_auto_flow": null,
            "grid_auto_rows": null,
            "grid_column": null,
            "grid_gap": null,
            "grid_row": null,
            "grid_template_areas": null,
            "grid_template_columns": null,
            "grid_template_rows": null,
            "height": null,
            "justify_content": null,
            "justify_items": null,
            "left": null,
            "margin": null,
            "max_height": null,
            "max_width": null,
            "min_height": null,
            "min_width": null,
            "object_fit": null,
            "object_position": null,
            "order": null,
            "overflow": null,
            "overflow_x": null,
            "overflow_y": null,
            "padding": null,
            "right": null,
            "top": null,
            "visibility": null,
            "width": null
          }
        },
        "150028a79c0341bf99bcc331a20c41a2": {
          "model_module": "@jupyter-widgets/controls",
          "model_name": "ButtonStyleModel",
          "model_module_version": "1.5.0",
          "state": {
            "_model_module": "@jupyter-widgets/controls",
            "_model_module_version": "1.5.0",
            "_model_name": "ButtonStyleModel",
            "_view_count": null,
            "_view_module": "@jupyter-widgets/base",
            "_view_module_version": "1.2.0",
            "_view_name": "StyleView",
            "button_color": null,
            "font_weight": ""
          }
        },
        "ad940f24de37448f8b73515c2cba145f": {
          "model_module": "@jupyter-widgets/base",
          "model_name": "LayoutModel",
          "model_module_version": "1.2.0",
          "state": {
            "_model_module": "@jupyter-widgets/base",
            "_model_module_version": "1.2.0",
            "_model_name": "LayoutModel",
            "_view_count": null,
            "_view_module": "@jupyter-widgets/base",
            "_view_module_version": "1.2.0",
            "_view_name": "LayoutView",
            "align_content": null,
            "align_items": null,
            "align_self": null,
            "border": null,
            "bottom": null,
            "display": null,
            "flex": null,
            "flex_flow": null,
            "grid_area": null,
            "grid_auto_columns": null,
            "grid_auto_flow": null,
            "grid_auto_rows": null,
            "grid_column": null,
            "grid_gap": null,
            "grid_row": null,
            "grid_template_areas": null,
            "grid_template_columns": null,
            "grid_template_rows": null,
            "height": null,
            "justify_content": null,
            "justify_items": null,
            "left": null,
            "margin": null,
            "max_height": null,
            "max_width": null,
            "min_height": null,
            "min_width": null,
            "object_fit": null,
            "object_position": null,
            "order": null,
            "overflow": null,
            "overflow_x": null,
            "overflow_y": null,
            "padding": null,
            "right": null,
            "top": null,
            "visibility": null,
            "width": null
          }
        },
        "ca7e039ac5bc44b7a3b2c998ca22cf61": {
          "model_module": "@jupyter-widgets/controls",
          "model_name": "DescriptionStyleModel",
          "model_module_version": "1.5.0",
          "state": {
            "_model_module": "@jupyter-widgets/controls",
            "_model_module_version": "1.5.0",
            "_model_name": "DescriptionStyleModel",
            "_view_count": null,
            "_view_module": "@jupyter-widgets/base",
            "_view_module_version": "1.2.0",
            "_view_name": "StyleView",
            "description_width": ""
          }
        }
      }
    }
  },
  "nbformat_minor": 0,
  "nbformat": 4,
  "cells": [
    {
      "source": [
        "# IMPORTANT: SOME KAGGLE DATA SOURCES ARE PRIVATE\n",
        "# RUN THIS CELL IN ORDER TO IMPORT YOUR KAGGLE DATA SOURCES.\n",
        "import kagglehub\n",
        "kagglehub.login()\n"
      ],
      "metadata": {
        "id": "u2Jm4sND5ZVP",
        "outputId": "6a60fa89-f7bb-4a97-a173-bf36403595a7",
        "colab": {
          "base_uri": "https://localhost:8080/",
          "height": 275,
          "referenced_widgets": [
            "3d73090217e143dc86337b2b987639ea",
            "83cb3378ff5b44af900a177c00ed50b0",
            "23f43167bfe9403885b2d76a2bd6aeab",
            "79fc090d567f45f2bc1be72d508820db",
            "dabf1744d011482a9dd6505c6354e2eb",
            "a5b38ec65c7f426a81b140cf9b7ab849",
            "480a7a9f828545c8ac0d7b9afeefd8e4",
            "9d844653d949479b9895d38afa2c9069",
            "3cd52ba6520341fdaca494574a4dcf3f",
            "fc100149be8347efba36c3f575f74cde",
            "71a779e4b0a44ccf82841dd498ec0b6f",
            "28f356a7a0b344f3aa353a01e471c318",
            "0261bbb44f9f4ccbaecfc05629f74d8f",
            "70b8c89559f041f59e8320ebe5dee51f",
            "150028a79c0341bf99bcc331a20c41a2",
            "ad940f24de37448f8b73515c2cba145f",
            "ca7e039ac5bc44b7a3b2c998ca22cf61"
          ]
        }
      },
      "cell_type": "code",
      "outputs": [
        {
          "output_type": "display_data",
          "data": {
            "text/plain": [
              "VBox(children=(HTML(value='<center> <img\\nsrc=https://www.kaggle.com/static/images/site-logo.png\\nalt=\\'Kaggle…"
            ],
            "application/vnd.jupyter.widget-view+json": {
              "version_major": 2,
              "version_minor": 0,
              "model_id": "3d73090217e143dc86337b2b987639ea"
            }
          },
          "metadata": {}
        }
      ],
      "execution_count": null
    },
    {
      "source": [
        "# IMPORTANT: RUN THIS CELL IN ORDER TO IMPORT YOUR KAGGLE DATA SOURCES,\n",
        "# THEN FEEL FREE TO DELETE THIS CELL.\n",
        "# NOTE: THIS NOTEBOOK ENVIRONMENT DIFFERS FROM KAGGLE'S PYTHON\n",
        "# ENVIRONMENT SO THERE MAY BE MISSING LIBRARIES USED BY YOUR\n",
        "# NOTEBOOK.\n",
        "\n",
        "hamzahabib47_brain_cancer_detection_mri_images_path = kagglehub.dataset_download('hamzahabib47/brain-cancer-detection-mri-images')\n",
        "abhyudayvenkatesh_braincancer_path = kagglehub.dataset_download('abhyudayvenkatesh/braincancer')\n",
        "\n",
        "print('Data source import complete.')\n"
      ],
      "metadata": {
        "id": "1twhoA7C5ZVQ"
      },
      "cell_type": "code",
      "outputs": [],
      "execution_count": null
    },
    {
      "cell_type": "code",
      "source": [
        "# This Python 3 environment comes with many helpful analytics libraries installed\n",
        "# It is defined by the kaggle/python Docker image: https://github.com/kaggle/docker-python\n",
        "# For example, here's several helpful packages to load\n",
        "\n",
        "import numpy as np # linear algebra\n",
        "import pandas as pd # data processing, CSV file I/O (e.g. pd.read_csv)\n",
        "\n",
        "# Input data files are available in the read-only \"../input/\" directory\n",
        "# For example, running this (by clicking run or pressing Shift+Enter) will list all files under the input directory\n",
        "\n",
        "import os\n",
        "for dirname, _, filenames in os.walk('/kaggle/input'):\n",
        "    for filename in filenames:\n",
        "        print(os.path.join(dirname, filename))\n",
        "\n",
        "# You can write up to 20GB to the current directory (/kaggle/working/) that gets preserved as output when you create a version using \"Save & Run All\"\n",
        "# You can also write temporary files to /kaggle/temp/, but they won't be saved outside of the current session"
      ],
      "metadata": {
        "_uuid": "8f2839f25d086af736a60e9eeb907d3b93b6e0e5",
        "_cell_guid": "b1076dfc-b9ad-4769-8c92-a6c4dae69d19",
        "trusted": true,
        "execution": {
          "iopub.status.busy": "2024-11-24T18:05:29.414367Z",
          "iopub.execute_input": "2024-11-24T18:05:29.414867Z",
          "iopub.status.idle": "2024-11-24T18:05:31.726962Z",
          "shell.execute_reply.started": "2024-11-24T18:05:29.414819Z",
          "shell.execute_reply": "2024-11-24T18:05:31.726057Z"
        },
        "collapsed": true,
        "jupyter": {
          "outputs_hidden": true
        },
        "id": "iF_y5ye85ZVR"
      },
      "outputs": [],
      "execution_count": null
    },
    {
      "cell_type": "code",
      "source": [
        "import pandas as pd\n",
        "import numpy as np\n",
        "import matplotlib.pyplot as plt\n",
        "import seaborn as sns\n",
        "import tensorflow as tf\n",
        "from sklearn.utils import shuffle\n",
        "from sklearn.model_selection import train_test_split\n",
        "from tensorflow import keras\n",
        "from tensorflow.keras import layers\n",
        "from tensorflow.keras.models import Sequential\n",
        "from tensorflow.keras.layers import Conv2D,Dense,MaxPooling2D\n",
        "import os\n",
        "from sklearn.metrics import confusion_matrix,classification_report"
      ],
      "metadata": {
        "trusted": true,
        "execution": {
          "iopub.status.busy": "2024-11-24T20:09:02.419776Z",
          "iopub.execute_input": "2024-11-24T20:09:02.420101Z",
          "iopub.status.idle": "2024-11-24T20:09:02.425056Z",
          "shell.execute_reply.started": "2024-11-24T20:09:02.420075Z",
          "shell.execute_reply": "2024-11-24T20:09:02.424136Z"
        },
        "id": "1T_yPaVQ5ZVR"
      },
      "outputs": [],
      "execution_count": null
    },
    {
      "cell_type": "code",
      "source": [],
      "metadata": {
        "id": "-HRKUBGT5eU6"
      },
      "execution_count": null,
      "outputs": []
    },
    {
      "cell_type": "markdown",
      "source": [
        "# Preprocessing"
      ],
      "metadata": {
        "id": "3FwATx7R5ZVS"
      }
    },
    {
      "cell_type": "code",
      "source": [
        "# Set up the path for your dataset\n",
        "dataset_path = \"/kaggle/input/brain-cancer-detection-mri-images/Dataset\"\n",
        "healthy_path = os.path.join(dataset_path, 'healthy')\n",
        "tumor_path = os.path.join(dataset_path, 'tumor')\n",
        "\n",
        "# Constants\n",
        "img_size = 128\n",
        "input_shape = (img_size, img_size, 3)\n",
        "\n",
        "# Helper functions for loading and preprocessing the dataset\n",
        "def load_images_from_folder(folder):\n",
        "    images = []\n",
        "    for filename in os.listdir(folder):\n",
        "        img = tf.keras.preprocessing.image.load_img(os.path.join(folder, filename), target_size=(img_size, img_size))\n",
        "        if img is not None:\n",
        "            images.append(tf.keras.preprocessing.image.img_to_array(img))\n",
        "    return images\n",
        "\n",
        "# Load images for healthy and tumor categories\n",
        "healthy_images = load_images_from_folder(healthy_path)\n",
        "tumor_images = load_images_from_folder(tumor_path)\n",
        "\n",
        "# Labels for the dataset\n",
        "healthy_labels = [0] * len(healthy_images)\n",
        "tumor_labels = [1] * len(tumor_images)\n",
        "\n",
        "# Combine and reshape\n",
        "X = np.array(healthy_images + tumor_images)\n",
        "y = np.array(healthy_labels + tumor_labels)"
      ],
      "metadata": {
        "trusted": true,
        "execution": {
          "iopub.status.busy": "2024-11-24T19:51:23.503757Z",
          "iopub.execute_input": "2024-11-24T19:51:23.504102Z",
          "iopub.status.idle": "2024-11-24T19:51:24.922963Z",
          "shell.execute_reply.started": "2024-11-24T19:51:23.504071Z",
          "shell.execute_reply": "2024-11-24T19:51:24.922186Z"
        },
        "id": "Twuy2ve95ZVT"
      },
      "outputs": [],
      "execution_count": null
    },
    {
      "cell_type": "markdown",
      "source": [
        "# Visualization"
      ],
      "metadata": {
        "id": "P6R-uIoK5ZVT"
      }
    },
    {
      "cell_type": "code",
      "source": [
        "# Visualize a few sample images from the dataset, showing both healthy and tumor images\n",
        "def show_sample_images(X, y, num_samples=10):\n",
        "    plt.figure(figsize=(15, 10))\n",
        "    healthy_count = 0\n",
        "    tumor_count = 0\n",
        "    for i in range(num_samples):\n",
        "        plt.subplot(2, num_samples // 2, i + 1)\n",
        "        if healthy_count < num_samples // 2:\n",
        "            plt.imshow(X[healthy_count])\n",
        "            plt.title('Healthy', fontsize=12)\n",
        "            healthy_count += 1\n",
        "        else:\n",
        "            plt.imshow(X[len(healthy_images) + tumor_count])\n",
        "            plt.title('Tumor', fontsize=12)\n",
        "            tumor_count += 1\n",
        "        plt.axis('off')\n",
        "    plt.show()\n",
        "\n",
        "# Show sample images of both healthy and tumor\n",
        "show_sample_images(X, y)"
      ],
      "metadata": {
        "trusted": true,
        "execution": {
          "iopub.status.busy": "2024-11-24T19:50:23.760215Z",
          "iopub.execute_input": "2024-11-24T19:50:23.760561Z",
          "iopub.status.idle": "2024-11-24T19:50:25.953201Z",
          "shell.execute_reply.started": "2024-11-24T19:50:23.760529Z",
          "shell.execute_reply": "2024-11-24T19:50:25.952322Z"
        },
        "id": "0tJ496wv5ZVT"
      },
      "outputs": [],
      "execution_count": null
    },
    {
      "cell_type": "code",
      "source": [
        "sns.countplot(x=y)\n",
        "plt.title('Distribution of Healthy and Tumor Images', fontsize=14)\n",
        "plt.xticks([0, 1], ['Healthy', 'Tumor'], fontsize=12)\n",
        "plt.yticks(fontsize=12)\n",
        "plt.xlabel('Label', fontsize=12)\n",
        "plt.ylabel('Count', fontsize=12)\n",
        "plt.show()"
      ],
      "metadata": {
        "trusted": true,
        "execution": {
          "iopub.status.busy": "2024-11-24T18:09:03.597305Z",
          "iopub.execute_input": "2024-11-24T18:09:03.598043Z",
          "iopub.status.idle": "2024-11-24T18:09:03.75336Z",
          "shell.execute_reply.started": "2024-11-24T18:09:03.598011Z",
          "shell.execute_reply": "2024-11-24T18:09:03.752461Z"
        },
        "id": "NDX3XqPN5ZVU"
      },
      "outputs": [],
      "execution_count": null
    },
    {
      "cell_type": "markdown",
      "source": [
        "# Data Augmentation"
      ],
      "metadata": {
        "id": "Q0gI85dq5ZVV"
      }
    },
    {
      "cell_type": "code",
      "source": [
        "# Normalize the images\n",
        "X = X / 255.0\n",
        "X, y = shuffle(X, y, random_state=42)\n",
        "# Train-test split\n",
        "X_train, X_test, y_train, y_test = train_test_split(X, y, test_size=0.2, random_state=42)\n",
        "\n",
        "\n",
        "\n",
        "train_datagen = tf.keras.preprocessing.image.ImageDataGenerator(\n",
        " cccvb   rotation_range=20,\n",
        "    width_shift_range=0.2,\n",
        "    height_shift_range=0.2,\n",
        "    shear_range=0.2,\n",
        "    zoom_range=0.2,\n",
        "    horizontal_flip=True\n",
        ")\n",
        "\n",
        "train_generator = train_datagen.flow(X_train, y_train, batch_size=16,shuffle=True)"
      ],
      "metadata": {
        "trusted": true,
        "execution": {
          "iopub.status.busy": "2024-11-24T19:52:44.833271Z",
          "iopub.execute_input": "2024-11-24T19:52:44.834048Z",
          "iopub.status.idle": "2024-11-24T19:52:44.981228Z",
          "shell.execute_reply.started": "2024-11-24T19:52:44.834012Z",
          "shell.execute_reply": "2024-11-24T19:52:44.980492Z"
        },
        "id": "E3WtvgNH5ZVV"
      },
      "outputs": [],
      "execution_count": null
    },
    {
      "cell_type": "markdown",
      "source": [
        "# Model Preperation and Training"
      ],
      "metadata": {
        "id": "itg4a2xg5ZVW"
      }
    },
    {
      "cell_type": "markdown",
      "source": [
        "# Using ResNet with normal and Augmented Data"
      ],
      "metadata": {
        "id": "2JckPeRF5ZVW"
      }
    },
    {
      "cell_type": "code",
      "source": [],
      "metadata": {
        "id": "QGVIhBHw8tr6"
      },
      "execution_count": null,
      "outputs": []
    },
    {
      "cell_type": "code",
      "source": [
        "input_shape = (128, 128, 3)\n",
        "metrics={}"
      ],
      "metadata": {
        "trusted": true,
        "execution": {
          "iopub.status.busy": "2024-11-24T19:13:20.976769Z",
          "iopub.execute_input": "2024-11-24T19:13:20.977446Z",
          "iopub.status.idle": "2024-11-24T19:13:20.981126Z",
          "shell.execute_reply.started": "2024-11-24T19:13:20.977412Z",
          "shell.execute_reply": "2024-11-24T19:13:20.980267Z"
        },
        "id": "cHyJSnUK5ZVX"
      },
      "outputs": [],
      "execution_count": null
    },
    {
      "cell_type": "code",
      "source": [
        "resnet_model=Sequential()\n",
        "\n",
        "pretrained_model=tf.keras.applications.ResNet50(include_top=False,\n",
        "                                              input_shape=input_shape,\n",
        "                                              pooling='max',classes=2,\n",
        "                                              weights='imagenet')\n",
        "for layer in pretrained_model.layers:\n",
        "    layers.trainable=False\n",
        "\n",
        "resnet_model.add(pretrained_model)\n",
        "resnet_model.add(layers.Flatten())\n",
        "resnet_model.add(Dense(512, activation='relu'))\n",
        "resnet_model.add(layers.Dropout(0.5))\n",
        "resnet_model.add(Dense(1,activation='sigmoid'))\n",
        "resnet_model.summary()"
      ],
      "metadata": {
        "trusted": true,
        "execution": {
          "iopub.status.busy": "2024-11-24T19:52:53.408693Z",
          "iopub.execute_input": "2024-11-24T19:52:53.409001Z",
          "iopub.status.idle": "2024-11-24T19:52:54.410762Z",
          "shell.execute_reply.started": "2024-11-24T19:52:53.408976Z",
          "shell.execute_reply": "2024-11-24T19:52:54.409851Z"
        },
        "id": "7F7CrZgn5ZVX"
      },
      "outputs": [],
      "execution_count": null
    },
    {
      "cell_type": "code",
      "source": [
        "resnet_model.compile(optimizer=tf.keras.optimizers.Adam(learning_rate=1e-5),\n",
        "loss='binary_crossentropy',\n",
        "metrics=['accuracy'])"
      ],
      "metadata": {
        "trusted": true,
        "execution": {
          "iopub.status.busy": "2024-11-24T19:52:57.17573Z",
          "iopub.execute_input": "2024-11-24T19:52:57.176349Z",
          "iopub.status.idle": "2024-11-24T19:52:57.18553Z",
          "shell.execute_reply.started": "2024-11-24T19:52:57.176316Z",
          "shell.execute_reply": "2024-11-24T19:52:57.18482Z"
        },
        "id": "_yrDXaTS5ZVX"
      },
      "outputs": [],
      "execution_count": null
    },
    {
      "cell_type": "code",
      "source": [
        "resnet_model_aug=Sequential()\n",
        "\n",
        "pretrained_model=tf.keras.applications.ResNet50(include_top=False,\n",
        "                                              input_shape=input_shape,\n",
        "                                              pooling='max',classes=2,\n",
        "                                              weights='imagenet')\n",
        "for layer in pretrained_model.layers:\n",
        "    layers.trainable=False\n",
        "\n",
        "resnet_model_aug.add(pretrained_model)\n",
        "resnet_model_aug.add(layers.Flatten())\n",
        "resnet_model_aug.add(Dense(512, activation='relu'))\n",
        "resnet_model_aug.add(layers.Dropout(0.5))\n",
        "resnet_model_aug.add(Dense(1,activation='sigmoid'))\n",
        "resnet_model_aug.summary()"
      ],
      "metadata": {
        "trusted": true,
        "execution": {
          "iopub.status.busy": "2024-11-24T19:14:43.221929Z",
          "iopub.execute_input": "2024-11-24T19:14:43.222779Z",
          "iopub.status.idle": "2024-11-24T19:14:44.212027Z",
          "shell.execute_reply.started": "2024-11-24T19:14:43.222744Z",
          "shell.execute_reply": "2024-11-24T19:14:44.211209Z"
        },
        "id": "NWFhCwir5ZVX"
      },
      "outputs": [],
      "execution_count": null
    },
    {
      "cell_type": "code",
      "source": [
        "resnet_model_aug.compile(optimizer=tf.keras.optimizers.Adam(learning_rate=1e-5),\n",
        "loss='binary_crossentropy',\n",
        "metrics=['accuracy'])"
      ],
      "metadata": {
        "trusted": true,
        "execution": {
          "iopub.status.busy": "2024-11-24T19:15:23.880789Z",
          "iopub.execute_input": "2024-11-24T19:15:23.881452Z",
          "iopub.status.idle": "2024-11-24T19:15:23.889476Z",
          "shell.execute_reply.started": "2024-11-24T19:15:23.88142Z",
          "shell.execute_reply": "2024-11-24T19:15:23.888715Z"
        },
        "id": "OCO1BCRs5ZVY"
      },
      "outputs": [],
      "execution_count": null
    },
    {
      "cell_type": "code",
      "source": [
        "metrics['resnet_history']=resnet_model.fit(X_train,y_train, epochs=10, validation_data=(X_test, y_test))"
      ],
      "metadata": {
        "trusted": true,
        "execution": {
          "iopub.status.busy": "2024-11-24T19:53:03.310351Z",
          "iopub.execute_input": "2024-11-24T19:53:03.310804Z",
          "iopub.status.idle": "2024-11-24T19:54:02.445226Z",
          "shell.execute_reply.started": "2024-11-24T19:53:03.310769Z",
          "shell.execute_reply": "2024-11-24T19:54:02.444357Z"
        },
        "id": "D_A1B-eN5ZVY"
      },
      "outputs": [],
      "execution_count": null
    },
    {
      "cell_type": "code",
      "source": [
        "metrics['resnet_aug_history'] = resnet_model_aug.fit(train_generator, epochs=10, validation_data=(X_test, y_test))"
      ],
      "metadata": {
        "trusted": true,
        "execution": {
          "iopub.status.busy": "2024-11-24T19:16:47.25724Z",
          "iopub.execute_input": "2024-11-24T19:16:47.257835Z",
          "iopub.status.idle": "2024-11-24T19:18:05.481546Z",
          "shell.execute_reply.started": "2024-11-24T19:16:47.257801Z",
          "shell.execute_reply": "2024-11-24T19:18:05.480862Z"
        },
        "id": "K8OXZ80n5ZVY"
      },
      "outputs": [],
      "execution_count": null
    },
    {
      "cell_type": "markdown",
      "source": [
        "# Using Conv2D using normal and Augmented Data"
      ],
      "metadata": {
        "id": "ZMM8UZiC5ZVY"
      }
    },
    {
      "cell_type": "code",
      "source": [
        "cnn_model=Sequential()\n",
        "cnn_model.add(Conv2D(32,kernel_size=(3,3),activation='relu',input_shape=input_shape))\n",
        "cnn_model.add(MaxPooling2D(pool_size=(2,2)))\n",
        "cnn_model.add(Conv2D(64,kernel_size=(3,3),activation='relu'))\n",
        "cnn_model.add(MaxPooling2D(pool_size=(2,2)))\n",
        "cnn_model.add(Conv2D(128,kernel_size=(3,3),activation='relu'))\n",
        "cnn_model.add(MaxPooling2D(pool_size=(2,2)))\n",
        "cnn_model.add(layers.Flatten())\n",
        "cnn_model.add(Dense(128,activation='relu'))\n",
        "cnn_model.add(Dense(1,activation='sigmoid'))\n",
        "cnn_model.summary()"
      ],
      "metadata": {
        "trusted": true,
        "execution": {
          "iopub.status.busy": "2024-11-24T19:55:03.067042Z",
          "iopub.execute_input": "2024-11-24T19:55:03.067405Z",
          "iopub.status.idle": "2024-11-24T19:55:03.151391Z",
          "shell.execute_reply.started": "2024-11-24T19:55:03.067373Z",
          "shell.execute_reply": "2024-11-24T19:55:03.150652Z"
        },
        "id": "uQlHijTx5ZVY"
      },
      "outputs": [],
      "execution_count": null
    },
    {
      "cell_type": "code",
      "source": [
        " cnn_model.compile(optimizer=tf.keras.optimizers.Adam(learning_rate=1e-5),\n",
        "                  loss='binary_crossentropy',\n",
        "                  metrics=['accuracy'])"
      ],
      "metadata": {
        "trusted": true,
        "execution": {
          "iopub.status.busy": "2024-11-24T19:55:12.707101Z",
          "iopub.execute_input": "2024-11-24T19:55:12.707946Z",
          "iopub.status.idle": "2024-11-24T19:55:12.715991Z",
          "shell.execute_reply.started": "2024-11-24T19:55:12.707909Z",
          "shell.execute_reply": "2024-11-24T19:55:12.71513Z"
        },
        "id": "YOHlbKvj5ZVY"
      },
      "outputs": [],
      "execution_count": null
    },
    {
      "cell_type": "code",
      "source": [
        "cnn_model_aug=Sequential()\n",
        "cnn_model_aug.add(Conv2D(32,kernel_size=(3,3),activation='relu',input_shape=input_shape))\n",
        "cnn_model_aug.add(MaxPooling2D(pool_size=(2,2)))\n",
        "cnn_model_aug.add(Conv2D(64,kernel_size=(3,3),activation='relu'))\n",
        "cnn_model_aug.add(MaxPooling2D(pool_size=(2,2)))\n",
        "cnn_model_aug.add(Conv2D(128,kernel_size=(3,3),activation='relu'))\n",
        "cnn_model_aug.add(MaxPooling2D(pool_size=(2,2)))\n",
        "cnn_model_aug.add(layers.Flatten())\n",
        "cnn_model_aug.add(Dense(128,activation='relu'))\n",
        "cnn_model_aug.add(Dense(1,activation='sigmoid'))\n",
        "cnn_model_aug.summary()"
      ],
      "metadata": {
        "trusted": true,
        "execution": {
          "iopub.status.busy": "2024-11-24T19:59:34.76705Z",
          "iopub.execute_input": "2024-11-24T19:59:34.767939Z",
          "iopub.status.idle": "2024-11-24T19:59:34.849486Z",
          "shell.execute_reply.started": "2024-11-24T19:59:34.767903Z",
          "shell.execute_reply": "2024-11-24T19:59:34.848666Z"
        },
        "id": "tfLZJfBH5ZVZ"
      },
      "outputs": [],
      "execution_count": null
    },
    {
      "cell_type": "code",
      "source": [
        " cnn_model_aug.compile(optimizer=tf.keras.optimizers.Adam(learning_rate=1e-5),\n",
        "                  loss='binary_crossentropy',\n",
        "                  metrics=['accuracy'])"
      ],
      "metadata": {
        "trusted": true,
        "execution": {
          "iopub.status.busy": "2024-11-24T19:59:40.391085Z",
          "iopub.execute_input": "2024-11-24T19:59:40.391436Z",
          "iopub.status.idle": "2024-11-24T19:59:40.400115Z",
          "shell.execute_reply.started": "2024-11-24T19:59:40.391403Z",
          "shell.execute_reply": "2024-11-24T19:59:40.399246Z"
        },
        "id": "WDr75dUm5ZVZ"
      },
      "outputs": [],
      "execution_count": null
    },
    {
      "cell_type": "code",
      "source": [
        "metrics['cnn_history'] = cnn_model.fit(X_train,y_train, epochs=10, validation_data=(X_test, y_test))"
      ],
      "metadata": {
        "trusted": true,
        "execution": {
          "iopub.status.busy": "2024-11-24T19:55:18.019369Z",
          "iopub.execute_input": "2024-11-24T19:55:18.019963Z",
          "iopub.status.idle": "2024-11-24T19:55:23.016295Z",
          "shell.execute_reply.started": "2024-11-24T19:55:18.019927Z",
          "shell.execute_reply": "2024-11-24T19:55:23.015638Z"
        },
        "id": "GgEwO3UL5ZVZ"
      },
      "outputs": [],
      "execution_count": null
    },
    {
      "cell_type": "code",
      "source": [
        "metrics['cnn_aug_history'] = cnn_model_aug.fit(train_generator, epochs=10, validation_data=(X_test, y_test))"
      ],
      "metadata": {
        "trusted": true,
        "execution": {
          "iopub.status.busy": "2024-11-24T19:59:50.453463Z",
          "iopub.execute_input": "2024-11-24T19:59:50.453831Z",
          "iopub.status.idle": "2024-11-24T20:00:15.554791Z",
          "shell.execute_reply.started": "2024-11-24T19:59:50.453799Z",
          "shell.execute_reply": "2024-11-24T20:00:15.554088Z"
        },
        "id": "vbLpz18H5ZVZ"
      },
      "outputs": [],
      "execution_count": null
    },
    {
      "cell_type": "markdown",
      "source": [
        "# Testing and Evaluation and Visualization"
      ],
      "metadata": {
        "id": "_XigHIom5ZVa"
      }
    },
    {
      "cell_type": "code",
      "source": [
        "\n",
        "metrics['resnet_y_pred'] = (resnet_model.predict(X_test)>0.5).astype(int)\n",
        "metrics['resnet_aug_y_pred']=(resnet_model_aug.predict(X_test)>0.5).astype(int)\n",
        "metrics['cnn_y_pred']=(cnn_model.predict(X_test)>0.5).astype(int)\n",
        "metrics['cnn_aug_y_pred']=(cnn_model_aug.predict(X_test)>0.5).astype(int)"
      ],
      "metadata": {
        "trusted": true,
        "execution": {
          "iopub.status.busy": "2024-11-24T20:05:25.48282Z",
          "iopub.execute_input": "2024-11-24T20:05:25.483654Z",
          "iopub.status.idle": "2024-11-24T20:05:25.978426Z",
          "shell.execute_reply.started": "2024-11-24T20:05:25.483612Z",
          "shell.execute_reply": "2024-11-24T20:05:25.977484Z"
        },
        "id": "S7oCzeHE5ZVa"
      },
      "outputs": [],
      "execution_count": null
    },
    {
      "cell_type": "code",
      "source": [
        "metrics"
      ],
      "metadata": {
        "trusted": true,
        "execution": {
          "iopub.status.busy": "2024-11-24T20:05:28.578144Z",
          "iopub.execute_input": "2024-11-24T20:05:28.578738Z",
          "iopub.status.idle": "2024-11-24T20:05:28.588393Z",
          "shell.execute_reply.started": "2024-11-24T20:05:28.578704Z",
          "shell.execute_reply": "2024-11-24T20:05:28.587545Z"
        },
        "collapsed": true,
        "jupyter": {
          "outputs_hidden": true
        },
        "id": "lK1HGrgu5ZVa"
      },
      "outputs": [],
      "execution_count": null
    },
    {
      "cell_type": "code",
      "source": [
        "models=['cnn','resnet','cnn_aug','resnet_aug']\n",
        "all_histories=[]\n",
        "for i in models:\n",
        "    all_histories.append(metrics[f'{i}_history'])\n",
        "\n",
        "for i,name in enumerate(models):\n",
        "    plt.figsize=(10,10)\n",
        "    plt.plot(all_histories[i].history['accuracy'],label='accuracy')\n",
        "    plt.plot(all_histories[i].history['val_accuracy'],label='val_accuracy')\n",
        "    plt.title(f'{name} Accuracy')\n",
        "    plt.xlabel('Epochs')\n",
        "    plt.ylabel('Accuracy')\n",
        "    plt.legend()\n",
        "    plt.grid()\n",
        "    plt.show()\n",
        "     # Print classification report\n",
        "    print(f\"Classification report for {name}:\")\n",
        "    print(classification_report(y_test,metrics[f'{name}_y_pred']))\n",
        "\n",
        "    # Confusion Matrix\n",
        "    cm = confusion_matrix(y_test,metrics[f'{name}_y_pred'])\n",
        "\n",
        "    # Confusion Matrix Visualization\n",
        "    plt.figure(figsize=(8, 6))\n",
        "    sns.heatmap(cm, annot=True, fmt='d', cmap='mako', cbar=True,\n",
        "                xticklabels=['Healthy', 'Tumor'], yticklabels=['Healthy', 'Tumor'])\n",
        "    plt.title(f'Confusion Matrix for {name}')\n",
        "    plt.xlabel('Predicted Label')\n",
        "    plt.ylabel('True Label')\n",
        "    plt.show()"
      ],
      "metadata": {
        "trusted": true,
        "execution": {
          "iopub.status.busy": "2024-11-24T20:09:07.720348Z",
          "iopub.execute_input": "2024-11-24T20:09:07.721395Z",
          "iopub.status.idle": "2024-11-24T20:09:09.339549Z",
          "shell.execute_reply.started": "2024-11-24T20:09:07.721338Z",
          "shell.execute_reply": "2024-11-24T20:09:09.338477Z"
        },
        "id": "T9Lh79GF5ZVb"
      },
      "outputs": [],
      "execution_count": null
    },
    {
      "cell_type": "markdown",
      "source": [
        "# Aggregate Model Summary"
      ],
      "metadata": {
        "id": "jh0Y1ot45ZVb"
      }
    },
    {
      "cell_type": "code",
      "source": [
        "metrics_summary=[]\n",
        "\n",
        "for i,name in enumerate(models):\n",
        "\n",
        "    final_train_accuracy=metrics[f'{name}_history'].history['accuracy'][-1]\n",
        "    final_val_accuracy=metrics[f'{name}_history'].history['val_accuracy'][-1]\n",
        "    final_train_loss=metrics[f'{name}_history'].history['loss'][-1]\n",
        "    final_val_loss=metrics[f'{name}_history'].history['val_loss'][-1]\n",
        "    metrics_summary.append({\n",
        "            'Model': name,\n",
        "            'Final Train Accuracy': final_train_accuracy,\n",
        "            'Final Validation Accuracy': final_val_accuracy,\n",
        "            'Final Train Loss': final_train_loss,\n",
        "            'Final Validation Loss': final_val_loss\n",
        "        })\n",
        "metrics_df=pd.DataFrame(metrics_summary)\n",
        "metrics_df"
      ],
      "metadata": {
        "trusted": true,
        "execution": {
          "iopub.status.busy": "2024-11-24T20:23:16.986853Z",
          "iopub.execute_input": "2024-11-24T20:23:16.987487Z",
          "iopub.status.idle": "2024-11-24T20:23:16.999426Z",
          "shell.execute_reply.started": "2024-11-24T20:23:16.987454Z",
          "shell.execute_reply": "2024-11-24T20:23:16.998436Z"
        },
        "id": "ZWTohajc5ZVc"
      },
      "outputs": [],
      "execution_count": null
    },
    {
      "cell_type": "code",
      "source": [
        "# Plotting Accuracy Comparison\n",
        "plt.figure(figsize=(12, 6))\n",
        "plt.bar(metrics_df['Model'], metrics_df['Final Validation Accuracy'], color='skyblue')\n",
        "plt.title('Final Validation Accuracy Comparison')\n",
        "plt.xlabel('Model')\n",
        "plt.ylabel('Validation Accuracy')\n",
        "plt.xticks(rotation=45)\n",
        "plt.ylim([0, 1])\n",
        "plt.grid(axis='y')\n",
        "plt.show()\n",
        "\n",
        "# Plotting Loss Comparison\n",
        "plt.figure(figsize=(12, 6))\n",
        "plt.bar(metrics_df['Model'], metrics_df['Final Validation Loss'], color='salmon')\n",
        "plt.title('Final Validation Loss Comparison')\n",
        "plt.xlabel('Model')\n",
        "plt.ylabel('Validation Loss')\n",
        "plt.xticks(rotation=45)\n",
        "plt.grid(axis='y')\n",
        "plt.show()"
      ],
      "metadata": {
        "trusted": true,
        "execution": {
          "iopub.status.busy": "2024-11-24T20:23:18.595623Z",
          "iopub.execute_input": "2024-11-24T20:23:18.596312Z",
          "iopub.status.idle": "2024-11-24T20:23:19.029997Z",
          "shell.execute_reply.started": "2024-11-24T20:23:18.596279Z",
          "shell.execute_reply": "2024-11-24T20:23:19.029111Z"
        },
        "id": "cLkrQQa45ZVc"
      },
      "outputs": [],
      "execution_count": null
    }
  ]
}